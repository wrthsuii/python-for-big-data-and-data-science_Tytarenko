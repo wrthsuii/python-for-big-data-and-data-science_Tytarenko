{
 "cells": [
  {
   "cell_type": "markdown",
   "metadata": {
    "id": "5qV_sehzFCTp"
   },
   "source": [
    "# I. OOP"
   ]
  },
  {
   "cell_type": "markdown",
   "metadata": {
    "id": "tx_U_hOALyfg"
   },
   "source": [
    "1. (6б). Створіть клас Building, додайте три атрибути, один з яких має значення за замовчуванням та два методи на свій розсуд."
   ]
  },
  {
   "cell_type": "code",
   "execution_count": 16,
   "metadata": {
    "id": "-Vf895KaL88N"
   },
   "outputs": [],
   "source": [
    "class Building:\n",
    "    def __init__(self, type_of_building, year_of_construction, colour = \"gray\"):\n",
    "        self.type_of_building = type_of_building\n",
    "        self.colour = colour\n",
    "        self.year_of_construction = year_of_construction\n",
    "        \n",
    "    def show_info(self):\n",
    "        print(f\"Type of the building: {self.type_of_building}, year of construction: {self.year_of_construction}, colour: {self.colour}.\")\n",
    "\n",
    "    def repaint(self, colour):\n",
    "        self.colour = new_colour\n",
    "        print(f\"The {self.colour} building was repainted to {new_colour}.\")"
   ]
  },
  {
   "cell_type": "markdown",
   "metadata": {
    "id": "X_UlOMB0L93w"
   },
   "source": [
    "2. (2б). Створіть два обʼєкти цього класу, де один з обʼєктів створюється із дефолтним значенням атрибуту. На одному обʼєкті отримайте значення його атрибуту, а на іншому викличте один з його методів."
   ]
  },
  {
   "cell_type": "code",
   "execution_count": 18,
   "metadata": {
    "id": "7gBu0ESOMCpG"
   },
   "outputs": [
    {
     "name": "stdout",
     "output_type": "stream",
     "text": [
      "factory\n",
      "Type of the building: office, year of construction: 2021, colour: light blue.\n"
     ]
    }
   ],
   "source": [
    "first_building = Building(\"factory\", 2016)\n",
    "second_building = Building(\"office\", 2021, \"light blue\")\n",
    "print(first_building.type_of_building)\n",
    "second_building.show_info()"
   ]
  },
  {
   "cell_type": "markdown",
   "metadata": {
    "id": "HoqSCZt1MHn5"
   },
   "source": [
    "3. (5б). Створіть клас, де атрибути мають різні рівні доступу. Спробуйте отримати їхні значення та опишіть результати."
   ]
  },
  {
   "cell_type": "code",
   "execution_count": 20,
   "metadata": {
    "id": "r9b3vJxBMSPV"
   },
   "outputs": [
    {
     "name": "stdout",
     "output_type": "stream",
     "text": [
      "Vladyslava Tytarenko\n",
      "19\n"
     ]
    }
   ],
   "source": [
    "class Student:\n",
    "    def __init__(self, student_id, full_name, age):\n",
    "        self.__student_id = student_id\n",
    "        self.full_name = full_name\n",
    "        self._age = age\n",
    "\n",
    "student1 = Student(1023, \"Vladyslava Tytarenko\", 19)\n",
    "# print(student1.__student_id) #AttributeError: 'Student' object has no attribute '__student_id'\n",
    "print(student1.full_name)\n",
    "print(student1._age)"
   ]
  },
  {
   "cell_type": "markdown",
   "metadata": {
    "id": "5op2m2vgMSkZ"
   },
   "source": [
    "4. (7б). Як ви розумієте термін self? Для чого використовується метод __init __?"
   ]
  },
  {
   "cell_type": "markdown",
   "metadata": {
    "id": "DyiPqNRvMasx"
   },
   "source": [
    "self - посилання на конкретний екземпляр класу, метод __init __ - ініціалізовує атрибути класу, конструктор класу, що викликається автоматично при створенні класу."
   ]
  },
  {
   "cell_type": "markdown",
   "metadata": {
    "id": "-6X8EGfjMd2y"
   },
   "source": [
    "5. (9б). Створіть клас 3D-фігура без атрибутів, з методом get_volume для отримання об'єму фігури, що повертає 0 та __add __, який приймає self та other в якості аргументів, а повертає суму об'ємів 3d-фігур self та other."
   ]
  },
  {
   "cell_type": "code",
   "execution_count": 24,
   "metadata": {
    "id": "4rvO_wYUMaEr"
   },
   "outputs": [],
   "source": [
    "class ThreeDFigure:\n",
    "    def get_volume(self):\n",
    "        return 0\n",
    "\n",
    "    def __add__(self, other):\n",
    "        return self.get_volume() + other.get_volume()"
   ]
  },
  {
   "cell_type": "markdown",
   "metadata": {
    "id": "SFcKnnv5Mo_z"
   },
   "source": [
    "6. (11б). Створіть 2 дочірніх класи від 3d-фігура: Циліндр та Куб, які мають атрибути, необхідні для розрахунку об'єму. Визначте метод get_volume в кожному з них так, щоби вони розраховували об'єм у залежності від формули для кожного типу фігури. Створіть обʼєкт класу Циліндр та обʼєкт класу Куб. Виконайте операцію суми за допомогою оператора + між ними, аби знайти сумарний об'єм."
   ]
  },
  {
   "cell_type": "code",
   "execution_count": 26,
   "metadata": {
    "id": "H3GVNr69Muf3"
   },
   "outputs": [],
   "source": [
    "import math\n",
    "\n",
    "class Cylinder(ThreeDFigure):\n",
    "    def __init__(self, radius, height):\n",
    "        self.radius = radius\n",
    "        self.height = height\n",
    "        \n",
    "    def get_volume(self):\n",
    "        return math.pi * self.radius * self.radius * self.height\n",
    "\n",
    "class Cube(ThreeDFigure):\n",
    "    def __init__(self, edge):\n",
    "        self.edge = edge\n",
    "\n",
    "    def get_volume(self):\n",
    "        return self.edge * self.edge * self.edge\n",
    "\n",
    "cylinder = Cylinder(3, 5)\n",
    "cube = Cube(4)\n",
    "\n",
    "total_volume = cylinder + cube"
   ]
  },
  {
   "cell_type": "markdown",
   "metadata": {
    "id": "HCvR206YMvLK"
   },
   "source": [
    "7. (3б). Продемонструйте різницю між isinstance та issubclass."
   ]
  },
  {
   "cell_type": "code",
   "execution_count": 100,
   "metadata": {
    "id": "L_V1bBvDM0GN"
   },
   "outputs": [
    {
     "name": "stdout",
     "output_type": "stream",
     "text": [
      "Testing isinstance():\n",
      "True\n",
      "False\n",
      "True\n",
      "Testing issubclass():\n",
      "True\n",
      "False\n",
      "True\n"
     ]
    }
   ],
   "source": [
    "class Animal:\n",
    "    pass\n",
    "\n",
    "class Coala(Animal):\n",
    "    pass\n",
    "    \n",
    "animal = Animal()\n",
    "coala = Coala()\n",
    "\n",
    "print(\"Testing isinstance():\")\n",
    "print(isinstance(animal, Animal)) \n",
    "print(isinstance(animal, Coala))\n",
    "print(isinstance(coala, Animal)) #true, because 'Coala' inherits from 'Animal', so 'coala' is an instance of 'Animal'\n",
    "\n",
    "print(\"Testing issubclass():\")\n",
    "print(issubclass(Animal, Animal)) #true, because a class is always a subclass of itself\n",
    "print(issubclass(Animal, Coala)) \n",
    "print(issubclass(Coala, Animal))"
   ]
  },
  {
   "cell_type": "markdown",
   "metadata": {
    "id": "jjsaBZ-iM0Qq"
   },
   "source": [
    "8. (13б). Створіть клас EWallet з приватними атрибутами balance та id. Реалізуйте методи поповнення та зняття коштів, забезпечивши належну інкапсуляцію. Підказка: використовуйте декоратори property та setter."
   ]
  },
  {
   "cell_type": "code",
   "execution_count": 48,
   "metadata": {
    "id": "xCvZ7lh8M7YA"
   },
   "outputs": [
    {
     "name": "stdout",
     "output_type": "stream",
     "text": [
      "Id: 02209, Balance: 15000\n",
      "Your balance's been replenished by 2000. Current balance: 17000.\n",
      "Id: 02209, Balance: 17000\n",
      "Withdrawal: 10000. Current balance: 7000.\n",
      "Id: 02209, Balance: 7000\n"
     ]
    }
   ],
   "source": [
    "class EWallet:\n",
    "    def __init__(self, balance, id):\n",
    "        self.__balance = balance\n",
    "        self.__id = id\n",
    "\n",
    "    @property\n",
    "    def balance(self):\n",
    "        return self.__balance\n",
    "\n",
    "    @balance.setter\n",
    "    def balance(self, value):\n",
    "        if value >= 0:  \n",
    "            self.__balance = value\n",
    "        else:\n",
    "            print(\"Balance cannot be negative\")\n",
    "\n",
    "    def replenish_the_balance(self, replenishment):\n",
    "        if replenishment > 0:\n",
    "            new_balance = self.__balance + replenishment\n",
    "            self.__balance = new_balance\n",
    "            print(f\"Your balance's been replenished by {replenishment}. Current balance: {self.balance}.\")\n",
    "        else:\n",
    "            print(\"Replenishment must be positive\")\n",
    "\n",
    "    def withdraw(self, withdrawal):\n",
    "        if withdrawal <= self.__balance and withdrawal > 0:  \n",
    "            new_balance = self.__balance - withdrawal\n",
    "            self.__balance = new_balance   \n",
    "            print(f\"Withdrawal: {withdrawal}. Current balance: {self.balance}.\")\n",
    "        else:\n",
    "            print(\"Invalid withdrawal amount\")\n",
    "\n",
    "    def __str__(self):\n",
    "        return f\"Id: {self.__id}, Balance: {self.__balance}\"\n",
    "\n",
    "# Testing\n",
    "client1 = EWallet(15000, \"02209\")\n",
    "print(client1)\n",
    "client1.replenish_the_balance(2000)\n",
    "print(client1)\n",
    "client1.withdraw(10000)\n",
    "print(client1)"
   ]
  },
  {
   "cell_type": "markdown",
   "metadata": {
    "id": "tIzL2SJTM8ft"
   },
   "source": [
    "9. (11б). Створіть клас ShoppingCart, який містить список об'єктів типу Item. Реалізуйте методи для додавання айтемів, їх видалення та відображення списку айтемів."
   ]
  },
  {
   "cell_type": "code",
   "execution_count": 46,
   "metadata": {
    "id": "HWxfJKLtNAUZ"
   },
   "outputs": [
    {
     "name": "stdout",
     "output_type": "stream",
     "text": [
      "Using show_items method:\n",
      "1. name: banana, quantity: 3\n",
      "2. name: chocolate, quantity: 1\n",
      "After using remove_item method:\n",
      "1. name: chocolate, quantity: 1\n"
     ]
    }
   ],
   "source": [
    "class ShoppingCart:\n",
    "    def __init__(self, name, quantity):\n",
    "        self.name = name\n",
    "        self.quantity = quantity\n",
    "        \n",
    "    def __str__(self):\n",
    "        return f\"name: {self.name}, quantity: {self.quantity}\"      \n",
    "\n",
    "class Item:\n",
    "    def __init__(self):\n",
    "        self.items = []\n",
    "\n",
    "    def add_item(self, item):\n",
    "        self.items.append(item)\n",
    "\n",
    "    def remove_item(self, item):\n",
    "        self.items.remove(item)\n",
    "\n",
    "    def show_items(self):\n",
    "        for i, item in enumerate(self.items):\n",
    "            print(f\"{i+1}. {item}\")\n",
    "\n",
    "# Testing\n",
    "items = Item()\n",
    "item1 = ShoppingCart(\"banana\", 3)\n",
    "item2 = ShoppingCart(\"chocolate\", 1)\n",
    "items.add_item(item1)\n",
    "items.add_item(item2)\n",
    "print(\"Using show_items method:\")\n",
    "items.show_items()\n",
    "items.remove_item(item1)\n",
    "print(\"After using remove_item method:\")\n",
    "items.show_items()"
   ]
  },
  {
   "cell_type": "markdown",
   "metadata": {
    "id": "lmV8pAwwNIqu"
   },
   "source": [
    "10. (13б). Створіть клас Vehicle з атрибутами brand (manufacturer) та production_age. Створіть ще один клас Engine з такими атрибутами, як type (ex. petrol) та size (volume, litres). Створіть клас Car, який успадковує обидва класи Vehicle та Engine. Продемонструйте використання множинної спадковості, створивши обʼєкт класу Car та отримавши mro для цього класу."
   ]
  },
  {
   "cell_type": "code",
   "execution_count": 57,
   "metadata": {
    "id": "R49grKlWNPeN"
   },
   "outputs": [
    {
     "data": {
      "text/plain": [
       "[__main__.Car, __main__.Vehicle, __main__.Engine, object]"
      ]
     },
     "execution_count": 57,
     "metadata": {},
     "output_type": "execute_result"
    }
   ],
   "source": [
    "class Vehicle:\n",
    "    def __init__(self, brand, production_age):\n",
    "        self.brand = brand\n",
    "        self.production_age = production_age\n",
    "\n",
    "    def __str__(self):\n",
    "        return f\"Brand: {self.brand}; Production age: {self.production_age}\"\n",
    "\n",
    "class Engine:\n",
    "    def __init__(self, type, size):\n",
    "        self.type = type\n",
    "        self.size = size\n",
    "\n",
    "    def __str__(self):\n",
    "        return f\"Type: {self.type}; Size: {self.size}\"\n",
    "\n",
    "class Car(Vehicle, Engine):\n",
    "    def __init__(self, brand, production_age, type, size):\n",
    "        Vehicle.__init__(self, brand, production_age)\n",
    "        Engine.__init__(self, type, size)\n",
    "\n",
    "Car.mro()"
   ]
  },
  {
   "cell_type": "markdown",
   "metadata": {
    "id": "dIJyUiNBFG8G"
   },
   "source": [
    "# II. Iterator"
   ]
  },
  {
   "cell_type": "markdown",
   "metadata": {
    "id": "13vsm0NyKIzL"
   },
   "source": [
    "11. (4б). Визначте рядок(str) з 4ма різними за значенням символами. Створіть ітератор на основі цього рядка. Викличте 5 разів функцію next на ітераторі, 4ри перших з них огорніть у ф-цію print()."
   ]
  },
  {
   "cell_type": "code",
   "execution_count": 63,
   "metadata": {
    "id": "81ntabAkKuz-"
   },
   "outputs": [
    {
     "name": "stdout",
     "output_type": "stream",
     "text": [
      "a\n",
      "b\n",
      "c\n",
      "d\n"
     ]
    },
    {
     "ename": "StopIteration",
     "evalue": "",
     "output_type": "error",
     "traceback": [
      "\u001b[0;31m---------------------------------------------------------------------------\u001b[0m",
      "\u001b[0;31mStopIteration\u001b[0m                             Traceback (most recent call last)",
      "Cell \u001b[0;32mIn[63], line 5\u001b[0m\n\u001b[1;32m      3\u001b[0m \u001b[38;5;28;01mfor\u001b[39;00m i \u001b[38;5;129;01min\u001b[39;00m \u001b[38;5;28mrange\u001b[39m(\u001b[38;5;241m4\u001b[39m):\n\u001b[1;32m      4\u001b[0m     \u001b[38;5;28mprint\u001b[39m(\u001b[38;5;28mnext\u001b[39m(my_str_iter))\n\u001b[0;32m----> 5\u001b[0m \u001b[38;5;28mnext\u001b[39m(my_str_iter)\n",
      "\u001b[0;31mStopIteration\u001b[0m: "
     ]
    }
   ],
   "source": [
    "my_str = \"abcd\"\n",
    "my_str_iter = iter(my_str)\n",
    "for i in range(4):\n",
    "    print(next(my_str_iter))\n",
    "next(my_str_iter)"
   ]
  },
  {
   "cell_type": "markdown",
   "metadata": {
    "id": "aekWHGXOLRsO"
   },
   "source": [
    "А що якщо викликати цю ж функцію на рядку?"
   ]
  },
  {
   "cell_type": "code",
   "execution_count": 65,
   "metadata": {
    "id": "mxATGsErLV1i"
   },
   "outputs": [
    {
     "ename": "TypeError",
     "evalue": "'str' object is not an iterator",
     "output_type": "error",
     "traceback": [
      "\u001b[0;31m---------------------------------------------------------------------------\u001b[0m",
      "\u001b[0;31mTypeError\u001b[0m                                 Traceback (most recent call last)",
      "Cell \u001b[0;32mIn[65], line 1\u001b[0m\n\u001b[0;32m----> 1\u001b[0m \u001b[38;5;28mnext\u001b[39m(my_str)\n",
      "\u001b[0;31mTypeError\u001b[0m: 'str' object is not an iterator"
     ]
    }
   ],
   "source": [
    "next(my_str)"
   ]
  },
  {
   "cell_type": "markdown",
   "metadata": {
    "id": "XwtMEopwJ4pH"
   },
   "source": [
    " 12. (5б). Опишіть своїми словами в одному реченні, як ви розумієте різницю між ітерабельними обʼєктами та ітераторами (можна на прикладі)."
   ]
  },
  {
   "cell_type": "markdown",
   "metadata": {
    "id": "-sHrODc3KFn8"
   },
   "source": [
    "Ітеральний обʼєкт в Python - це обʼєкт, який ми можемо перебирати поелементно (напр. list через цикл):"
   ]
  },
  {
   "cell_type": "code",
   "execution_count": 72,
   "metadata": {},
   "outputs": [
    {
     "name": "stdout",
     "output_type": "stream",
     "text": [
      "15\n",
      "25\n",
      "35\n"
     ]
    }
   ],
   "source": [
    "ex_list = [15,25,35]\n",
    "for el in ex_list:\n",
    "    print(el)"
   ]
  },
  {
   "cell_type": "markdown",
   "metadata": {},
   "source": [
    "Тоді як ітератор - це обʼєкт, який відповідає за сам процес ітерації та має метод next(), щоб проходитись по одному елементу кожен виклик:"
   ]
  },
  {
   "cell_type": "code",
   "execution_count": 79,
   "metadata": {},
   "outputs": [
    {
     "data": {
      "text/plain": [
       "15"
      ]
     },
     "execution_count": 79,
     "metadata": {},
     "output_type": "execute_result"
    }
   ],
   "source": [
    "ex_list_iter = iter(ex_list)\n",
    "next(ex_list_iter)"
   ]
  },
  {
   "cell_type": "markdown",
   "metadata": {},
   "source": [
    "Ітератор дуже useful при нескінченних або великих обʼєктах, бо ми контролюємо де зупинитись при ітерації."
   ]
  },
  {
   "cell_type": "markdown",
   "metadata": {
    "id": "E9qJWmNbK8Gl"
   },
   "source": [
    "13. (11б). Створіть клас, що має визначений Iterator Protocol та при кожному виклику next повертає назву дня тижня, поки вони не вичерпаються. Зверніть увагу, що порядок має значення."
   ]
  },
  {
   "cell_type": "code",
   "execution_count": 104,
   "metadata": {
    "id": "cqx-g_RsLo6I"
   },
   "outputs": [
    {
     "name": "stdout",
     "output_type": "stream",
     "text": [
      "Sunday\n",
      "Monday\n",
      "Tuesday\n",
      "Wednesday\n",
      "Thursday\n",
      "Friday\n",
      "Saturday\n"
     ]
    }
   ],
   "source": [
    "class Week:\n",
    "    def __init__(self):\n",
    "        self.days = [\"Sunday\", \"Monday\", \"Tuesday\", \"Wednesday\", \"Thursday\", \"Friday\", \"Saturday\"]\n",
    "        self.index = 0\n",
    "\n",
    "    def __iter__(self):\n",
    "        return self\n",
    "\n",
    "    def __next__(self):\n",
    "        if self.index < len(self.days):\n",
    "            day = self.days[self.index]\n",
    "            self.index = self.index + 1\n",
    "            return day\n",
    "        else:\n",
    "            raise StopIteration\n",
    "\n",
    "week = Week()\n",
    "for day in week:\n",
    "    print(day)    "
   ]
  },
  {
   "cell_type": "markdown",
   "metadata": {
    "id": "Z3E3S_s1Fv7-"
   },
   "source": [
    "# Вітаю! Ви велика(ий) молодець, що впоралась(вся). Похваліть себе та побалуйте чимось приємним. Я Вами пишаюся."
   ]
  }
 ],
 "metadata": {
  "colab": {
   "provenance": []
  },
  "kernelspec": {
   "display_name": "Python 3 (ipykernel)",
   "language": "python",
   "name": "python3"
  },
  "language_info": {
   "codemirror_mode": {
    "name": "ipython",
    "version": 3
   },
   "file_extension": ".py",
   "mimetype": "text/x-python",
   "name": "python",
   "nbconvert_exporter": "python",
   "pygments_lexer": "ipython3",
   "version": "3.12.4"
  }
 },
 "nbformat": 4,
 "nbformat_minor": 4
}
